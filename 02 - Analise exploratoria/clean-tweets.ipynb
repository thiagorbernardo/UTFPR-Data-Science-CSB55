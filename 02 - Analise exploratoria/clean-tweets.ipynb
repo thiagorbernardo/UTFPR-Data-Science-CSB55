{
 "cells": [
  {
   "cell_type": "markdown",
   "id": "1cb57525-3432-4bce-8526-561809b43d8b",
   "metadata": {},
   "source": [
    "# Limpando dataset tweets"
   ]
  },
  {
   "cell_type": "markdown",
   "id": "e615e941-0110-4728-9d36-b5878b886c65",
   "metadata": {},
   "source": [
    "## Fonte dos dados\n",
    "[Kaggle](https://www.kaggle.com/datasets/edqian/twitter-climate-change-sentiment-dataset)"
   ]
  },
  {
   "cell_type": "code",
   "execution_count": 1,
   "id": "bf0a0456-8950-4bea-a862-82d70d5c96d0",
   "metadata": {},
   "outputs": [],
   "source": [
    "# import necessary libraries\n",
    "import pandas as pd\n",
    "import matplotlib.pyplot as plt\n",
    "import json\n",
    "import time\n",
    "from datetime import datetime\n",
    "pd.set_option('display.max_columns', None)\n",
    "\n",
    "df_tmp = pd.read_csv('../data/twitter/twitter_sentiment_data.csv',comment='#')"
   ]
  },
  {
   "cell_type": "code",
   "execution_count": 2,
   "id": "a922021a-09d2-49a8-96de-11a796207e66",
   "metadata": {},
   "outputs": [],
   "source": [
    "df_tmp.columns = df_tmp.columns.str.upper()"
   ]
  },
  {
   "cell_type": "code",
   "execution_count": 3,
   "id": "e00977ba-42b2-4607-a3ee-9e43b83d301d",
   "metadata": {},
   "outputs": [
    {
     "data": {
      "text/html": [
       "<div>\n",
       "<style scoped>\n",
       "    .dataframe tbody tr th:only-of-type {\n",
       "        vertical-align: middle;\n",
       "    }\n",
       "\n",
       "    .dataframe tbody tr th {\n",
       "        vertical-align: top;\n",
       "    }\n",
       "\n",
       "    .dataframe thead th {\n",
       "        text-align: right;\n",
       "    }\n",
       "</style>\n",
       "<table border=\"1\" class=\"dataframe\">\n",
       "  <thead>\n",
       "    <tr style=\"text-align: right;\">\n",
       "      <th></th>\n",
       "      <th>SENTIMENT</th>\n",
       "      <th>MESSAGE</th>\n",
       "      <th>TWEETID</th>\n",
       "    </tr>\n",
       "  </thead>\n",
       "  <tbody>\n",
       "    <tr>\n",
       "      <th>0</th>\n",
       "      <td>-1</td>\n",
       "      <td>@tiniebeany climate change is an interesting h...</td>\n",
       "      <td>792927353886371840</td>\n",
       "    </tr>\n",
       "    <tr>\n",
       "      <th>1</th>\n",
       "      <td>1</td>\n",
       "      <td>RT @NatGeoChannel: Watch #BeforeTheFlood right...</td>\n",
       "      <td>793124211518832641</td>\n",
       "    </tr>\n",
       "    <tr>\n",
       "      <th>2</th>\n",
       "      <td>1</td>\n",
       "      <td>Fabulous! Leonardo #DiCaprio's film on #climat...</td>\n",
       "      <td>793124402388832256</td>\n",
       "    </tr>\n",
       "    <tr>\n",
       "      <th>3</th>\n",
       "      <td>1</td>\n",
       "      <td>RT @Mick_Fanning: Just watched this amazing do...</td>\n",
       "      <td>793124635873275904</td>\n",
       "    </tr>\n",
       "    <tr>\n",
       "      <th>4</th>\n",
       "      <td>2</td>\n",
       "      <td>RT @cnalive: Pranita Biswasi, a Lutheran from ...</td>\n",
       "      <td>793125156185137153</td>\n",
       "    </tr>\n",
       "    <tr>\n",
       "      <th>...</th>\n",
       "      <td>...</td>\n",
       "      <td>...</td>\n",
       "      <td>...</td>\n",
       "    </tr>\n",
       "    <tr>\n",
       "      <th>43938</th>\n",
       "      <td>1</td>\n",
       "      <td>Dear @realDonaldTrump,\\nYeah right. Human Medi...</td>\n",
       "      <td>791307031919550464</td>\n",
       "    </tr>\n",
       "    <tr>\n",
       "      <th>43939</th>\n",
       "      <td>1</td>\n",
       "      <td>What will your respective parties do to preven...</td>\n",
       "      <td>791316857403936768</td>\n",
       "    </tr>\n",
       "    <tr>\n",
       "      <th>43940</th>\n",
       "      <td>2</td>\n",
       "      <td>RT @MikkiL: UN Poll Shows Climate Change Is th...</td>\n",
       "      <td>791357509101621249</td>\n",
       "    </tr>\n",
       "    <tr>\n",
       "      <th>43941</th>\n",
       "      <td>0</td>\n",
       "      <td>RT @taehbeingextra: i still can$q$t believe th...</td>\n",
       "      <td>791390042136641537</td>\n",
       "    </tr>\n",
       "    <tr>\n",
       "      <th>43942</th>\n",
       "      <td>1</td>\n",
       "      <td>@Likeabat77 @zachhaller \\n\\nThe wealthy + foss...</td>\n",
       "      <td>791401610308038656</td>\n",
       "    </tr>\n",
       "  </tbody>\n",
       "</table>\n",
       "<p>43943 rows × 3 columns</p>\n",
       "</div>"
      ],
      "text/plain": [
       "       SENTIMENT                                            MESSAGE  \\\n",
       "0             -1  @tiniebeany climate change is an interesting h...   \n",
       "1              1  RT @NatGeoChannel: Watch #BeforeTheFlood right...   \n",
       "2              1  Fabulous! Leonardo #DiCaprio's film on #climat...   \n",
       "3              1  RT @Mick_Fanning: Just watched this amazing do...   \n",
       "4              2  RT @cnalive: Pranita Biswasi, a Lutheran from ...   \n",
       "...          ...                                                ...   \n",
       "43938          1  Dear @realDonaldTrump,\\nYeah right. Human Medi...   \n",
       "43939          1  What will your respective parties do to preven...   \n",
       "43940          2  RT @MikkiL: UN Poll Shows Climate Change Is th...   \n",
       "43941          0  RT @taehbeingextra: i still can$q$t believe th...   \n",
       "43942          1  @Likeabat77 @zachhaller \\n\\nThe wealthy + foss...   \n",
       "\n",
       "                  TWEETID  \n",
       "0      792927353886371840  \n",
       "1      793124211518832641  \n",
       "2      793124402388832256  \n",
       "3      793124635873275904  \n",
       "4      793125156185137153  \n",
       "...                   ...  \n",
       "43938  791307031919550464  \n",
       "43939  791316857403936768  \n",
       "43940  791357509101621249  \n",
       "43941  791390042136641537  \n",
       "43942  791401610308038656  \n",
       "\n",
       "[43943 rows x 3 columns]"
      ]
     },
     "execution_count": 3,
     "metadata": {},
     "output_type": "execute_result"
    }
   ],
   "source": [
    "df_tmp"
   ]
  },
  {
   "cell_type": "markdown",
   "id": "32850b11-819e-4ad2-9cfa-ff9289115c45",
   "metadata": {},
   "source": [
    "## Convertendo data e filtrando"
   ]
  },
  {
   "cell_type": "code",
   "execution_count": 4,
   "id": "59ca379e-6f3b-4288-8045-b0ccfe8842b7",
   "metadata": {},
   "outputs": [],
   "source": [
    "def tweet_id_to_date(id):\n",
    "    timestamp = (id>>22) + 1288834974657\n",
    "    utcdttime = datetime.utcfromtimestamp(timestamp/1000)\n",
    "    return utcdttime\n",
    "    \n",
    "df_tmp['DATE'] = df_tmp['TWEETID'].apply(tweet_id_to_date)"
   ]
  },
  {
   "cell_type": "code",
   "execution_count": 5,
   "id": "4dc861be-0a09-4cce-a174-b44105f126af",
   "metadata": {},
   "outputs": [
    {
     "data": {
      "text/html": [
       "<div>\n",
       "<style scoped>\n",
       "    .dataframe tbody tr th:only-of-type {\n",
       "        vertical-align: middle;\n",
       "    }\n",
       "\n",
       "    .dataframe tbody tr th {\n",
       "        vertical-align: top;\n",
       "    }\n",
       "\n",
       "    .dataframe thead th {\n",
       "        text-align: right;\n",
       "    }\n",
       "</style>\n",
       "<table border=\"1\" class=\"dataframe\">\n",
       "  <thead>\n",
       "    <tr style=\"text-align: right;\">\n",
       "      <th></th>\n",
       "      <th>SENTIMENT</th>\n",
       "      <th>MESSAGE</th>\n",
       "      <th>TWEETID</th>\n",
       "      <th>DATE</th>\n",
       "    </tr>\n",
       "  </thead>\n",
       "  <tbody>\n",
       "    <tr>\n",
       "      <th>0</th>\n",
       "      <td>-1</td>\n",
       "      <td>@tiniebeany climate change is an interesting h...</td>\n",
       "      <td>792927353886371840</td>\n",
       "      <td>2016-10-31 03:13:07.701</td>\n",
       "    </tr>\n",
       "    <tr>\n",
       "      <th>1</th>\n",
       "      <td>1</td>\n",
       "      <td>RT @NatGeoChannel: Watch #BeforeTheFlood right...</td>\n",
       "      <td>793124211518832641</td>\n",
       "      <td>2016-10-31 16:15:22.218</td>\n",
       "    </tr>\n",
       "    <tr>\n",
       "      <th>2</th>\n",
       "      <td>1</td>\n",
       "      <td>Fabulous! Leonardo #DiCaprio's film on #climat...</td>\n",
       "      <td>793124402388832256</td>\n",
       "      <td>2016-10-31 16:16:07.725</td>\n",
       "    </tr>\n",
       "    <tr>\n",
       "      <th>3</th>\n",
       "      <td>1</td>\n",
       "      <td>RT @Mick_Fanning: Just watched this amazing do...</td>\n",
       "      <td>793124635873275904</td>\n",
       "      <td>2016-10-31 16:17:03.392</td>\n",
       "    </tr>\n",
       "    <tr>\n",
       "      <th>4</th>\n",
       "      <td>2</td>\n",
       "      <td>RT @cnalive: Pranita Biswasi, a Lutheran from ...</td>\n",
       "      <td>793125156185137153</td>\n",
       "      <td>2016-10-31 16:19:07.444</td>\n",
       "    </tr>\n",
       "    <tr>\n",
       "      <th>...</th>\n",
       "      <td>...</td>\n",
       "      <td>...</td>\n",
       "      <td>...</td>\n",
       "      <td>...</td>\n",
       "    </tr>\n",
       "    <tr>\n",
       "      <th>43938</th>\n",
       "      <td>1</td>\n",
       "      <td>Dear @realDonaldTrump,\\nYeah right. Human Medi...</td>\n",
       "      <td>791307031919550464</td>\n",
       "      <td>2016-10-26 15:54:32.840</td>\n",
       "    </tr>\n",
       "    <tr>\n",
       "      <th>43939</th>\n",
       "      <td>1</td>\n",
       "      <td>What will your respective parties do to preven...</td>\n",
       "      <td>791316857403936768</td>\n",
       "      <td>2016-10-26 16:33:35.418</td>\n",
       "    </tr>\n",
       "    <tr>\n",
       "      <th>43940</th>\n",
       "      <td>2</td>\n",
       "      <td>RT @MikkiL: UN Poll Shows Climate Change Is th...</td>\n",
       "      <td>791357509101621249</td>\n",
       "      <td>2016-10-26 19:15:07.538</td>\n",
       "    </tr>\n",
       "    <tr>\n",
       "      <th>43941</th>\n",
       "      <td>0</td>\n",
       "      <td>RT @taehbeingextra: i still can$q$t believe th...</td>\n",
       "      <td>791390042136641537</td>\n",
       "      <td>2016-10-26 21:24:24.018</td>\n",
       "    </tr>\n",
       "    <tr>\n",
       "      <th>43942</th>\n",
       "      <td>1</td>\n",
       "      <td>@Likeabat77 @zachhaller \\n\\nThe wealthy + foss...</td>\n",
       "      <td>791401610308038656</td>\n",
       "      <td>2016-10-26 22:10:22.085</td>\n",
       "    </tr>\n",
       "  </tbody>\n",
       "</table>\n",
       "<p>43943 rows × 4 columns</p>\n",
       "</div>"
      ],
      "text/plain": [
       "       SENTIMENT                                            MESSAGE  \\\n",
       "0             -1  @tiniebeany climate change is an interesting h...   \n",
       "1              1  RT @NatGeoChannel: Watch #BeforeTheFlood right...   \n",
       "2              1  Fabulous! Leonardo #DiCaprio's film on #climat...   \n",
       "3              1  RT @Mick_Fanning: Just watched this amazing do...   \n",
       "4              2  RT @cnalive: Pranita Biswasi, a Lutheran from ...   \n",
       "...          ...                                                ...   \n",
       "43938          1  Dear @realDonaldTrump,\\nYeah right. Human Medi...   \n",
       "43939          1  What will your respective parties do to preven...   \n",
       "43940          2  RT @MikkiL: UN Poll Shows Climate Change Is th...   \n",
       "43941          0  RT @taehbeingextra: i still can$q$t believe th...   \n",
       "43942          1  @Likeabat77 @zachhaller \\n\\nThe wealthy + foss...   \n",
       "\n",
       "                  TWEETID                    DATE  \n",
       "0      792927353886371840 2016-10-31 03:13:07.701  \n",
       "1      793124211518832641 2016-10-31 16:15:22.218  \n",
       "2      793124402388832256 2016-10-31 16:16:07.725  \n",
       "3      793124635873275904 2016-10-31 16:17:03.392  \n",
       "4      793125156185137153 2016-10-31 16:19:07.444  \n",
       "...                   ...                     ...  \n",
       "43938  791307031919550464 2016-10-26 15:54:32.840  \n",
       "43939  791316857403936768 2016-10-26 16:33:35.418  \n",
       "43940  791357509101621249 2016-10-26 19:15:07.538  \n",
       "43941  791390042136641537 2016-10-26 21:24:24.018  \n",
       "43942  791401610308038656 2016-10-26 22:10:22.085  \n",
       "\n",
       "[43943 rows x 4 columns]"
      ]
     },
     "execution_count": 5,
     "metadata": {},
     "output_type": "execute_result"
    }
   ],
   "source": [
    "df_tmp"
   ]
  },
  {
   "cell_type": "code",
   "execution_count": 6,
   "id": "a53da902-cbc9-44da-aee7-d42c6c7d7912",
   "metadata": {},
   "outputs": [
    {
     "data": {
      "text/plain": [
       "SENTIMENT             int64\n",
       "MESSAGE              object\n",
       "TWEETID               int64\n",
       "DATE         datetime64[ns]\n",
       "dtype: object"
      ]
     },
     "execution_count": 6,
     "metadata": {},
     "output_type": "execute_result"
    }
   ],
   "source": [
    "df_tmp.dtypes"
   ]
  },
  {
   "cell_type": "code",
   "execution_count": 7,
   "id": "8b5755fc-83bf-4c00-a16c-fe5c8b74db2a",
   "metadata": {},
   "outputs": [],
   "source": [
    "df = df_tmp[['TWEETID', 'MESSAGE', 'DATE', 'SENTIMENT']]"
   ]
  },
  {
   "cell_type": "code",
   "execution_count": 8,
   "id": "5ad8126d-063d-4901-9b02-84281122b905",
   "metadata": {},
   "outputs": [
    {
     "data": {
      "text/html": [
       "<div>\n",
       "<style scoped>\n",
       "    .dataframe tbody tr th:only-of-type {\n",
       "        vertical-align: middle;\n",
       "    }\n",
       "\n",
       "    .dataframe tbody tr th {\n",
       "        vertical-align: top;\n",
       "    }\n",
       "\n",
       "    .dataframe thead th {\n",
       "        text-align: right;\n",
       "    }\n",
       "</style>\n",
       "<table border=\"1\" class=\"dataframe\">\n",
       "  <thead>\n",
       "    <tr style=\"text-align: right;\">\n",
       "      <th></th>\n",
       "      <th>TWEETID</th>\n",
       "      <th>MESSAGE</th>\n",
       "      <th>DATE</th>\n",
       "      <th>SENTIMENT</th>\n",
       "    </tr>\n",
       "  </thead>\n",
       "  <tbody>\n",
       "    <tr>\n",
       "      <th>43938</th>\n",
       "      <td>791307031919550464</td>\n",
       "      <td>Dear @realDonaldTrump,\\nYeah right. Human Medi...</td>\n",
       "      <td>2016-10-26 15:54:32.840</td>\n",
       "      <td>1</td>\n",
       "    </tr>\n",
       "    <tr>\n",
       "      <th>43939</th>\n",
       "      <td>791316857403936768</td>\n",
       "      <td>What will your respective parties do to preven...</td>\n",
       "      <td>2016-10-26 16:33:35.418</td>\n",
       "      <td>1</td>\n",
       "    </tr>\n",
       "    <tr>\n",
       "      <th>43940</th>\n",
       "      <td>791357509101621249</td>\n",
       "      <td>RT @MikkiL: UN Poll Shows Climate Change Is th...</td>\n",
       "      <td>2016-10-26 19:15:07.538</td>\n",
       "      <td>2</td>\n",
       "    </tr>\n",
       "    <tr>\n",
       "      <th>43941</th>\n",
       "      <td>791390042136641537</td>\n",
       "      <td>RT @taehbeingextra: i still can$q$t believe th...</td>\n",
       "      <td>2016-10-26 21:24:24.018</td>\n",
       "      <td>0</td>\n",
       "    </tr>\n",
       "    <tr>\n",
       "      <th>43942</th>\n",
       "      <td>791401610308038656</td>\n",
       "      <td>@Likeabat77 @zachhaller \\n\\nThe wealthy + foss...</td>\n",
       "      <td>2016-10-26 22:10:22.085</td>\n",
       "      <td>1</td>\n",
       "    </tr>\n",
       "  </tbody>\n",
       "</table>\n",
       "</div>"
      ],
      "text/plain": [
       "                  TWEETID                                            MESSAGE  \\\n",
       "43938  791307031919550464  Dear @realDonaldTrump,\\nYeah right. Human Medi...   \n",
       "43939  791316857403936768  What will your respective parties do to preven...   \n",
       "43940  791357509101621249  RT @MikkiL: UN Poll Shows Climate Change Is th...   \n",
       "43941  791390042136641537  RT @taehbeingextra: i still can$q$t believe th...   \n",
       "43942  791401610308038656  @Likeabat77 @zachhaller \\n\\nThe wealthy + foss...   \n",
       "\n",
       "                         DATE  SENTIMENT  \n",
       "43938 2016-10-26 15:54:32.840          1  \n",
       "43939 2016-10-26 16:33:35.418          1  \n",
       "43940 2016-10-26 19:15:07.538          2  \n",
       "43941 2016-10-26 21:24:24.018          0  \n",
       "43942 2016-10-26 22:10:22.085          1  "
      ]
     },
     "execution_count": 8,
     "metadata": {},
     "output_type": "execute_result"
    }
   ],
   "source": [
    "df.tail()"
   ]
  },
  {
   "cell_type": "code",
   "execution_count": 9,
   "id": "4343fc98-d6d6-42c0-b2ea-240ee5e6c9b5",
   "metadata": {},
   "outputs": [
    {
     "data": {
      "text/plain": [
       "TWEETID               int64\n",
       "MESSAGE              object\n",
       "DATE         datetime64[ns]\n",
       "SENTIMENT             int64\n",
       "dtype: object"
      ]
     },
     "execution_count": 9,
     "metadata": {},
     "output_type": "execute_result"
    }
   ],
   "source": [
    "df.dtypes"
   ]
  },
  {
   "cell_type": "code",
   "execution_count": 10,
   "id": "2dd452de-d2a2-4703-9df8-ccc40846b7f3",
   "metadata": {},
   "outputs": [],
   "source": [
    "df.to_csv('../data/twitter/twitter_sentiment_data_cleaned.csv',index=False)"
   ]
  }
 ],
 "metadata": {
  "kernelspec": {
   "display_name": "Python 3 (ipykernel)",
   "language": "python",
   "name": "python3"
  },
  "language_info": {
   "codemirror_mode": {
    "name": "ipython",
    "version": 3
   },
   "file_extension": ".py",
   "mimetype": "text/x-python",
   "name": "python",
   "nbconvert_exporter": "python",
   "pygments_lexer": "ipython3",
   "version": "3.9.12"
  }
 },
 "nbformat": 4,
 "nbformat_minor": 5
}
