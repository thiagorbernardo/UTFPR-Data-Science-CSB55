{
 "cells": [
  {
   "attachments": {},
   "cell_type": "markdown",
   "metadata": {},
   "source": [
    "# LDA - Sentimento em relação ao aquecimento global\n",
    "\n"
   ]
  },
  {
   "attachments": {},
   "cell_type": "markdown",
   "metadata": {},
   "source": [
    "## Leitura e análise inicial dos dados\n",
    "\n",
    "Inicializar um DataFrame a partir do arquivo `../data//twitter/twitter_sentiment_data_cleaned.csv`"
   ]
  },
  {
   "cell_type": "code",
   "execution_count": 9,
   "metadata": {},
   "outputs": [
    {
     "data": {
      "text/html": [
       "<div>\n",
       "<style scoped>\n",
       "    .dataframe tbody tr th:only-of-type {\n",
       "        vertical-align: middle;\n",
       "    }\n",
       "\n",
       "    .dataframe tbody tr th {\n",
       "        vertical-align: top;\n",
       "    }\n",
       "\n",
       "    .dataframe thead th {\n",
       "        text-align: right;\n",
       "    }\n",
       "</style>\n",
       "<table border=\"1\" class=\"dataframe\">\n",
       "  <thead>\n",
       "    <tr style=\"text-align: right;\">\n",
       "      <th></th>\n",
       "      <th>MESSAGE</th>\n",
       "      <th>DATE</th>\n",
       "    </tr>\n",
       "  </thead>\n",
       "  <tbody>\n",
       "    <tr>\n",
       "      <th>0</th>\n",
       "      <td>@tiniebeany climate change is an interesting h...</td>\n",
       "      <td>2016-10-31 03:13:07.701</td>\n",
       "    </tr>\n",
       "    <tr>\n",
       "      <th>1</th>\n",
       "      <td>RT @NatGeoChannel: Watch #BeforeTheFlood right...</td>\n",
       "      <td>2016-10-31 16:15:22.218</td>\n",
       "    </tr>\n",
       "    <tr>\n",
       "      <th>2</th>\n",
       "      <td>Fabulous! Leonardo #DiCaprio's film on #climat...</td>\n",
       "      <td>2016-10-31 16:16:07.725</td>\n",
       "    </tr>\n",
       "    <tr>\n",
       "      <th>3</th>\n",
       "      <td>RT @Mick_Fanning: Just watched this amazing do...</td>\n",
       "      <td>2016-10-31 16:17:03.392</td>\n",
       "    </tr>\n",
       "    <tr>\n",
       "      <th>4</th>\n",
       "      <td>RT @cnalive: Pranita Biswasi, a Lutheran from ...</td>\n",
       "      <td>2016-10-31 16:19:07.444</td>\n",
       "    </tr>\n",
       "    <tr>\n",
       "      <th>...</th>\n",
       "      <td>...</td>\n",
       "      <td>...</td>\n",
       "    </tr>\n",
       "    <tr>\n",
       "      <th>43938</th>\n",
       "      <td>Dear @realDonaldTrump,\\r\\nYeah right. Human Me...</td>\n",
       "      <td>2016-10-26 15:54:32.840</td>\n",
       "    </tr>\n",
       "    <tr>\n",
       "      <th>43939</th>\n",
       "      <td>What will your respective parties do to preven...</td>\n",
       "      <td>2016-10-26 16:33:35.418</td>\n",
       "    </tr>\n",
       "    <tr>\n",
       "      <th>43940</th>\n",
       "      <td>RT @MikkiL: UN Poll Shows Climate Change Is th...</td>\n",
       "      <td>2016-10-26 19:15:07.538</td>\n",
       "    </tr>\n",
       "    <tr>\n",
       "      <th>43941</th>\n",
       "      <td>RT @taehbeingextra: i still can$q$t believe th...</td>\n",
       "      <td>2016-10-26 21:24:24.018</td>\n",
       "    </tr>\n",
       "    <tr>\n",
       "      <th>43942</th>\n",
       "      <td>@Likeabat77 @zachhaller \\r\\n\\r\\nThe wealthy + ...</td>\n",
       "      <td>2016-10-26 22:10:22.085</td>\n",
       "    </tr>\n",
       "  </tbody>\n",
       "</table>\n",
       "<p>43943 rows × 2 columns</p>\n",
       "</div>"
      ],
      "text/plain": [
       "                                                 MESSAGE  \\\n",
       "0      @tiniebeany climate change is an interesting h...   \n",
       "1      RT @NatGeoChannel: Watch #BeforeTheFlood right...   \n",
       "2      Fabulous! Leonardo #DiCaprio's film on #climat...   \n",
       "3      RT @Mick_Fanning: Just watched this amazing do...   \n",
       "4      RT @cnalive: Pranita Biswasi, a Lutheran from ...   \n",
       "...                                                  ...   \n",
       "43938  Dear @realDonaldTrump,\\r\\nYeah right. Human Me...   \n",
       "43939  What will your respective parties do to preven...   \n",
       "43940  RT @MikkiL: UN Poll Shows Climate Change Is th...   \n",
       "43941  RT @taehbeingextra: i still can$q$t believe th...   \n",
       "43942  @Likeabat77 @zachhaller \\r\\n\\r\\nThe wealthy + ...   \n",
       "\n",
       "                          DATE  \n",
       "0      2016-10-31 03:13:07.701  \n",
       "1      2016-10-31 16:15:22.218  \n",
       "2      2016-10-31 16:16:07.725  \n",
       "3      2016-10-31 16:17:03.392  \n",
       "4      2016-10-31 16:19:07.444  \n",
       "...                        ...  \n",
       "43938  2016-10-26 15:54:32.840  \n",
       "43939  2016-10-26 16:33:35.418  \n",
       "43940  2016-10-26 19:15:07.538  \n",
       "43941  2016-10-26 21:24:24.018  \n",
       "43942  2016-10-26 22:10:22.085  \n",
       "\n",
       "[43943 rows x 2 columns]"
      ]
     },
     "execution_count": 9,
     "metadata": {},
     "output_type": "execute_result"
    }
   ],
   "source": [
    "# Resposta:\n",
    "import pandas as pd\n",
    "import numpy as np\n",
    "import matplotlib.pyplot as plt\n",
    "import seaborn as sns\n",
    "\n",
    "from lda_over_time.lda_over_time import LdaOverTime\n",
    "from lda_over_time.models.lda_seq_model import LdaSeqModel\n",
    "\n",
    "import lda_over_time\n",
    "\n",
    "tweets_path = \"../data/twitter/twitter_sentiment_data_cleaned.csv\"\n",
    "\n",
    "data = pd.read_csv(\n",
    "    tweets_path, \n",
    "    usecols=[\"DATE\", \"MESSAGE\"], \n",
    "    encoding=\"latin-1\"\n",
    ")\n",
    "\n",
    "data"
   ]
  },
  {
   "attachments": {},
   "cell_type": "markdown",
   "metadata": {},
   "source": [
    "Utiliza o *spacy* para filtrar e limpar os textos"
   ]
  },
  {
   "cell_type": "code",
   "execution_count": 1,
   "metadata": {},
   "outputs": [
    {
     "ename": "ModuleNotFoundError",
     "evalue": "No module named 'spacy'",
     "output_type": "error",
     "traceback": [
      "\u001b[1;31m---------------------------------------------------------------------------\u001b[0m",
      "\u001b[1;31mModuleNotFoundError\u001b[0m                       Traceback (most recent call last)",
      "\u001b[1;32mc:\\Users\\Pedro\\Documents\\UTFPR-Data-Science-CSB55\\06 - LDA\\LDA_GlobalWarming.ipynb Cell 5\u001b[0m in \u001b[0;36m<cell line: 1>\u001b[1;34m()\u001b[0m\n\u001b[1;32m----> <a href='vscode-notebook-cell:/c%3A/Users/Pedro/Documents/UTFPR-Data-Science-CSB55/06%20-%20LDA/LDA_GlobalWarming.ipynb#W4sZmlsZQ%3D%3D?line=0'>1</a>\u001b[0m \u001b[39mfrom\u001b[39;00m \u001b[39mspacy\u001b[39;00m \u001b[39mimport\u001b[39;00m spacy\n\u001b[0;32m      <a href='vscode-notebook-cell:/c%3A/Users/Pedro/Documents/UTFPR-Data-Science-CSB55/06%20-%20LDA/LDA_GlobalWarming.ipynb#W4sZmlsZQ%3D%3D?line=2'>3</a>\u001b[0m nlp \u001b[39m=\u001b[39m spacy\u001b[39m.\u001b[39mload(\u001b[39m\"\u001b[39m\u001b[39men_core_web_sm\u001b[39m\u001b[39m\"\u001b[39m)\n",
      "\u001b[1;31mModuleNotFoundError\u001b[0m: No module named 'spacy'"
     ]
    }
   ],
   "source": [
    "from spacy import spacy\n",
    "\n",
    "nlp = spacy.load(\"en_core_web_sm\")"
   ]
  },
  {
   "cell_type": "code",
   "execution_count": null,
   "metadata": {},
   "outputs": [],
   "source": [
    "filters = {\n",
    "    \"ADJ\": \"adjective\",\n",
    "    \"ADV\": \"adverb\",\n",
    "    \"NOUN\": \"noun\",\n",
    "    \"PROPN\": \"proper noun\",\n",
    "    \"VERB\": \"verb\",\n",
    "}"
   ]
  },
  {
   "cell_type": "code",
   "execution_count": null,
   "metadata": {},
   "outputs": [],
   "source": [
    "tweets = data['MESSAGE']\n",
    "\n",
    "clean_tweets = []\n",
    "\n",
    "# clear each article\n",
    "for tweet in tweets:\n",
    "    \n",
    "    # words that belongs to one of the chosen part of speeches\n",
    "    clean = []\n",
    "    \n",
    "    # filter and store all words from the chosen part of speech in their basic form\n",
    "    for word in nlp(tweet):\n",
    "        if word.pos_ in filters:\n",
    "            clean.append(word.lemma_)\n",
    "            \n",
    "    # append cleanned text\n",
    "    clean_tweets.append(' '.join(clean))"
   ]
  },
  {
   "cell_type": "code",
   "execution_count": null,
   "metadata": {},
   "outputs": [],
   "source": [
    "model = LdaSeqModel(\n",
    "    corpus = clean_tweets,         # list texts to be analysed\n",
    "    dates = data[\"Date\"].values,     # dates of each article\n",
    "    date_format = \"%Y/%m/%d\",        # date format is MM/DD/YYYY\n",
    "    freq = \"6M\",                     # frequency of one semester\n",
    "    n_topics = 5,                    # we want to get 5 topics\n",
    "    aggregator = \"average\"           # calculate average of topics\n",
    ")"
   ]
  },
  {
   "cell_type": "code",
   "execution_count": null,
   "metadata": {},
   "outputs": [],
   "source": [
    "main = LdaOverTime(model)"
   ]
  }
 ],
 "metadata": {
  "hide_input": false,
  "kernelspec": {
   "display_name": "Python 3.10.3 64-bit",
   "language": "python",
   "name": "python3"
  },
  "language_info": {
   "codemirror_mode": {
    "name": "ipython",
    "version": 3
   },
   "file_extension": ".py",
   "mimetype": "text/x-python",
   "name": "python",
   "nbconvert_exporter": "python",
   "pygments_lexer": "ipython3",
   "version": "3.10.10"
  },
  "toc": {
   "base_numbering": 1,
   "nav_menu": {},
   "number_sections": true,
   "sideBar": true,
   "skip_h1_title": false,
   "title_cell": "Table of Contents",
   "title_sidebar": "Contents",
   "toc_cell": false,
   "toc_position": {},
   "toc_section_display": true,
   "toc_window_display": false
  },
  "vscode": {
   "interpreter": {
    "hash": "4e4d9352723624e5dc1bfdfa04fbf04e7bff530b05efff23a92193636d3d03c3"
   }
  }
 },
 "nbformat": 4,
 "nbformat_minor": 2
}
